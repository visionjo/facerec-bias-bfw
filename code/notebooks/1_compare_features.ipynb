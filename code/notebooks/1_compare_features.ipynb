{
 "cells": [
  {
   "cell_type": "markdown",
   "metadata": {
    "pycharm": {
     "name": "#%% md\n"
    }
   },
   "source": [
    "# Compare lists of feature pairs of the Balance Faces in the Wild (BFW) dataset.\n",
    "\n",
    "Load table in `data/bfw-datatable.pkl` to extract all features and store in the datatable. Overwrites the table to `data/bfw-datatable.pkl`."
   ]
  },
  {
   "cell_type": "markdown",
   "metadata": {},
   "source": [
    "## Add project code to PYTHONPATH, if not already there\n",
    "Check that _path_package_ is set to _code_ directory on respective system"
   ]
  },
  {
   "cell_type": "code",
   "execution_count": 3,
   "metadata": {
    "pycharm": {
     "is_executing": false,
     "name": "#%%\n"
    }
   },
   "outputs": [],
   "source": [
    "%matplotlib inline\n",
    "import numpy as np\n",
    "import swifter\n",
    "from sklearn.metrics.pairwise import cosine_similarity\n",
    "# Load out custom tool for loading and processing the data\n",
    "from facebias.iotools import load_bfw_datatable, save_bfw_datatable, load_features_from_image_list\n",
    "\n",
    "scorefun = np.dot # function to compare (or score) pairs of features with\n",
    "\n",
    "dir_data = '../../data/bfw/'\n",
    "dir_features = f'{dir_data}features/sphereface/'\n",
    "f_datatable = f'{dir_data}meta/bfw-v0.1.5-datatable.pkl'\n",
    "overwrite_pickle = False"
   ]
  },
  {
   "cell_type": "markdown",
   "metadata": {},
   "source": [
    "## Load the data\n",
    "\n",
    "Read in the data as a pandas.DataFrame and show the first few rows."
   ]
  },
  {
   "cell_type": "code",
   "execution_count": 4,
   "metadata": {
    "pycharm": {
     "is_executing": false,
     "name": "#%%\n"
    }
   },
   "outputs": [
    {
     "data": {
      "text/html": [
       "<div>\n",
       "<style scoped>\n",
       "    .dataframe tbody tr th:only-of-type {\n",
       "        vertical-align: middle;\n",
       "    }\n",
       "\n",
       "    .dataframe tbody tr th {\n",
       "        vertical-align: top;\n",
       "    }\n",
       "\n",
       "    .dataframe thead th {\n",
       "        text-align: right;\n",
       "    }\n",
       "</style>\n",
       "<table border=\"1\" class=\"dataframe\">\n",
       "  <thead>\n",
       "    <tr style=\"text-align: right;\">\n",
       "      <th></th>\n",
       "      <th>fold</th>\n",
       "      <th>p1</th>\n",
       "      <th>p2</th>\n",
       "      <th>label</th>\n",
       "      <th>id1</th>\n",
       "      <th>id2</th>\n",
       "      <th>att1</th>\n",
       "      <th>att2</th>\n",
       "      <th>vgg16</th>\n",
       "      <th>resnet50</th>\n",
       "      <th>senet50</th>\n",
       "      <th>a1</th>\n",
       "      <th>a2</th>\n",
       "      <th>g1</th>\n",
       "      <th>g2</th>\n",
       "      <th>e1</th>\n",
       "      <th>e2</th>\n",
       "      <th>sphereface</th>\n",
       "    </tr>\n",
       "  </thead>\n",
       "  <tbody>\n",
       "    <tr>\n",
       "      <th>0</th>\n",
       "      <td>1</td>\n",
       "      <td>asian_females/n000009/0010_01.jpg</td>\n",
       "      <td>asian_females/n000009/0043_01.jpg</td>\n",
       "      <td>1</td>\n",
       "      <td>0</td>\n",
       "      <td>0</td>\n",
       "      <td>asian_females</td>\n",
       "      <td>asian_females</td>\n",
       "      <td>0.820039</td>\n",
       "      <td>0.703258</td>\n",
       "      <td>0.679089</td>\n",
       "      <td>AF</td>\n",
       "      <td>AF</td>\n",
       "      <td>F</td>\n",
       "      <td>F</td>\n",
       "      <td>A</td>\n",
       "      <td>A</td>\n",
       "      <td>0.392526</td>\n",
       "    </tr>\n",
       "    <tr>\n",
       "      <th>1</th>\n",
       "      <td>1</td>\n",
       "      <td>asian_females/n000009/0010_01.jpg</td>\n",
       "      <td>asian_females/n000009/0120_01.jpg</td>\n",
       "      <td>1</td>\n",
       "      <td>0</td>\n",
       "      <td>0</td>\n",
       "      <td>asian_females</td>\n",
       "      <td>asian_females</td>\n",
       "      <td>0.719199</td>\n",
       "      <td>0.523613</td>\n",
       "      <td>0.594268</td>\n",
       "      <td>AF</td>\n",
       "      <td>AF</td>\n",
       "      <td>F</td>\n",
       "      <td>F</td>\n",
       "      <td>A</td>\n",
       "      <td>A</td>\n",
       "      <td>0.354262</td>\n",
       "    </tr>\n",
       "    <tr>\n",
       "      <th>2</th>\n",
       "      <td>1</td>\n",
       "      <td>asian_females/n000009/0010_01.jpg</td>\n",
       "      <td>asian_females/n000009/0122_02.jpg</td>\n",
       "      <td>1</td>\n",
       "      <td>0</td>\n",
       "      <td>0</td>\n",
       "      <td>asian_females</td>\n",
       "      <td>asian_females</td>\n",
       "      <td>0.732029</td>\n",
       "      <td>0.527567</td>\n",
       "      <td>0.643680</td>\n",
       "      <td>AF</td>\n",
       "      <td>AF</td>\n",
       "      <td>F</td>\n",
       "      <td>F</td>\n",
       "      <td>A</td>\n",
       "      <td>A</td>\n",
       "      <td>0.302028</td>\n",
       "    </tr>\n",
       "    <tr>\n",
       "      <th>3</th>\n",
       "      <td>1</td>\n",
       "      <td>asian_females/n000009/0010_01.jpg</td>\n",
       "      <td>asian_females/n000009/0188_01.jpg</td>\n",
       "      <td>1</td>\n",
       "      <td>0</td>\n",
       "      <td>0</td>\n",
       "      <td>asian_females</td>\n",
       "      <td>asian_females</td>\n",
       "      <td>0.607093</td>\n",
       "      <td>0.348211</td>\n",
       "      <td>0.458883</td>\n",
       "      <td>AF</td>\n",
       "      <td>AF</td>\n",
       "      <td>F</td>\n",
       "      <td>F</td>\n",
       "      <td>A</td>\n",
       "      <td>A</td>\n",
       "      <td>-0.009217</td>\n",
       "    </tr>\n",
       "    <tr>\n",
       "      <th>4</th>\n",
       "      <td>1</td>\n",
       "      <td>asian_females/n000009/0010_01.jpg</td>\n",
       "      <td>asian_females/n000009/0205_01.jpg</td>\n",
       "      <td>1</td>\n",
       "      <td>0</td>\n",
       "      <td>0</td>\n",
       "      <td>asian_females</td>\n",
       "      <td>asian_females</td>\n",
       "      <td>0.629153</td>\n",
       "      <td>0.384273</td>\n",
       "      <td>0.494913</td>\n",
       "      <td>AF</td>\n",
       "      <td>AF</td>\n",
       "      <td>F</td>\n",
       "      <td>F</td>\n",
       "      <td>A</td>\n",
       "      <td>A</td>\n",
       "      <td>0.132534</td>\n",
       "    </tr>\n",
       "  </tbody>\n",
       "</table>\n",
       "</div>"
      ],
      "text/plain": [
       "  fold                                 p1                                 p2  \\\n",
       "0    1  asian_females/n000009/0010_01.jpg  asian_females/n000009/0043_01.jpg   \n",
       "1    1  asian_females/n000009/0010_01.jpg  asian_females/n000009/0120_01.jpg   \n",
       "2    1  asian_females/n000009/0010_01.jpg  asian_females/n000009/0122_02.jpg   \n",
       "3    1  asian_females/n000009/0010_01.jpg  asian_females/n000009/0188_01.jpg   \n",
       "4    1  asian_females/n000009/0010_01.jpg  asian_females/n000009/0205_01.jpg   \n",
       "\n",
       "  label  id1  id2           att1           att2     vgg16  resnet50   senet50  \\\n",
       "0     1    0    0  asian_females  asian_females  0.820039  0.703258  0.679089   \n",
       "1     1    0    0  asian_females  asian_females  0.719199  0.523613  0.594268   \n",
       "2     1    0    0  asian_females  asian_females  0.732029  0.527567  0.643680   \n",
       "3     1    0    0  asian_females  asian_females  0.607093  0.348211  0.458883   \n",
       "4     1    0    0  asian_females  asian_females  0.629153  0.384273  0.494913   \n",
       "\n",
       "   a1  a2 g1 g2 e1 e2  sphereface  \n",
       "0  AF  AF  F  F  A  A    0.392526  \n",
       "1  AF  AF  F  F  A  A    0.354262  \n",
       "2  AF  AF  F  F  A  A    0.302028  \n",
       "3  AF  AF  F  F  A  A   -0.009217  \n",
       "4  AF  AF  F  F  A  A    0.132534  "
      ]
     },
     "execution_count": 4,
     "metadata": {},
     "output_type": "execute_result"
    }
   ],
   "source": [
    "data = load_bfw_datatable(f_datatable)\n",
    "data.head()"
   ]
  },
  {
   "cell_type": "markdown",
   "metadata": {},
   "source": [
    "## Load features and generate scores\n",
    "First check if scores were calculated for each pairs; else, load and calculate"
   ]
  },
  {
   "cell_type": "code",
   "execution_count": 5,
   "metadata": {},
   "outputs": [],
   "source": [
    "# create ali_images list of all faces (i.e., unique set)\n",
    "li_images = list(np.unique(data.p1.to_list() + data.p2.to_list()))\n",
    "\n",
    "# read features as a dictionary, with keys set as the filepath of the image with values set as the face encodings\n",
    "features = load_features_from_image_list(li_images, dir_features, ext_feat='npy')"
   ]
  },
  {
   "cell_type": "code",
   "execution_count": 6,
   "metadata": {},
   "outputs": [
    {
     "name": "stderr",
     "output_type": "stream",
     "text": [
      "/Users/jrobby/miniconda3/envs/fairness/lib/python3.7/site-packages/tqdm/std.py:658: FutureWarning: The Panel class is removed from pandas. Accessing it from the top-level namespace will also be removed in the next version\n",
      "  from pandas import Panel\n"
     ]
    },
    {
     "data": {
      "application/vnd.jupyter.widget-view+json": {
       "model_id": "314a03546b7a4342a31c4ce2f3b1bd27",
       "version_major": 2,
       "version_minor": 0
      },
      "text/plain": [
       "HBox(children=(FloatProgress(value=0.0, description='Pandas Apply', max=923898.0, style=ProgressStyle(descript…"
      ]
     },
     "metadata": {},
     "output_type": "display_data"
    },
    {
     "name": "stdout",
     "output_type": "stream",
     "text": [
      "\n"
     ]
    }
   ],
   "source": [
    "# score all feature pairs, because L2 norm applied on features dot is same as cosine sim\n",
    "data['sphereface'] = data.swifter.apply(lambda x: scorefun(features[x.p1], features[x.p2].T), axis=1)"
   ]
  },
  {
   "cell_type": "code",
   "execution_count": 7,
   "metadata": {
    "jupyter": {
     "source_hidden": true
    }
   },
   "outputs": [
    {
     "data": {
      "text/html": [
       "<div>\n",
       "<style scoped>\n",
       "    .dataframe tbody tr th:only-of-type {\n",
       "        vertical-align: middle;\n",
       "    }\n",
       "\n",
       "    .dataframe tbody tr th {\n",
       "        vertical-align: top;\n",
       "    }\n",
       "\n",
       "    .dataframe thead th {\n",
       "        text-align: right;\n",
       "    }\n",
       "</style>\n",
       "<table border=\"1\" class=\"dataframe\">\n",
       "  <thead>\n",
       "    <tr style=\"text-align: right;\">\n",
       "      <th></th>\n",
       "      <th>fold</th>\n",
       "      <th>p1</th>\n",
       "      <th>p2</th>\n",
       "      <th>label</th>\n",
       "      <th>id1</th>\n",
       "      <th>id2</th>\n",
       "      <th>att1</th>\n",
       "      <th>att2</th>\n",
       "      <th>vgg16</th>\n",
       "      <th>resnet50</th>\n",
       "      <th>senet50</th>\n",
       "      <th>a1</th>\n",
       "      <th>a2</th>\n",
       "      <th>g1</th>\n",
       "      <th>g2</th>\n",
       "      <th>e1</th>\n",
       "      <th>e2</th>\n",
       "      <th>sphereface</th>\n",
       "    </tr>\n",
       "  </thead>\n",
       "  <tbody>\n",
       "    <tr>\n",
       "      <th>0</th>\n",
       "      <td>1</td>\n",
       "      <td>asian_females/n000009/0010_01.jpg</td>\n",
       "      <td>asian_females/n000009/0043_01.jpg</td>\n",
       "      <td>1</td>\n",
       "      <td>0</td>\n",
       "      <td>0</td>\n",
       "      <td>asian_females</td>\n",
       "      <td>asian_females</td>\n",
       "      <td>0.820039</td>\n",
       "      <td>0.703258</td>\n",
       "      <td>0.679089</td>\n",
       "      <td>AF</td>\n",
       "      <td>AF</td>\n",
       "      <td>F</td>\n",
       "      <td>F</td>\n",
       "      <td>A</td>\n",
       "      <td>A</td>\n",
       "      <td>[[0.39252594]]</td>\n",
       "    </tr>\n",
       "    <tr>\n",
       "      <th>1</th>\n",
       "      <td>1</td>\n",
       "      <td>asian_females/n000009/0010_01.jpg</td>\n",
       "      <td>asian_females/n000009/0120_01.jpg</td>\n",
       "      <td>1</td>\n",
       "      <td>0</td>\n",
       "      <td>0</td>\n",
       "      <td>asian_females</td>\n",
       "      <td>asian_females</td>\n",
       "      <td>0.719199</td>\n",
       "      <td>0.523613</td>\n",
       "      <td>0.594268</td>\n",
       "      <td>AF</td>\n",
       "      <td>AF</td>\n",
       "      <td>F</td>\n",
       "      <td>F</td>\n",
       "      <td>A</td>\n",
       "      <td>A</td>\n",
       "      <td>[[0.35426214]]</td>\n",
       "    </tr>\n",
       "    <tr>\n",
       "      <th>2</th>\n",
       "      <td>1</td>\n",
       "      <td>asian_females/n000009/0010_01.jpg</td>\n",
       "      <td>asian_females/n000009/0122_02.jpg</td>\n",
       "      <td>1</td>\n",
       "      <td>0</td>\n",
       "      <td>0</td>\n",
       "      <td>asian_females</td>\n",
       "      <td>asian_females</td>\n",
       "      <td>0.732029</td>\n",
       "      <td>0.527567</td>\n",
       "      <td>0.643680</td>\n",
       "      <td>AF</td>\n",
       "      <td>AF</td>\n",
       "      <td>F</td>\n",
       "      <td>F</td>\n",
       "      <td>A</td>\n",
       "      <td>A</td>\n",
       "      <td>[[0.30202782]]</td>\n",
       "    </tr>\n",
       "    <tr>\n",
       "      <th>3</th>\n",
       "      <td>1</td>\n",
       "      <td>asian_females/n000009/0010_01.jpg</td>\n",
       "      <td>asian_females/n000009/0188_01.jpg</td>\n",
       "      <td>1</td>\n",
       "      <td>0</td>\n",
       "      <td>0</td>\n",
       "      <td>asian_females</td>\n",
       "      <td>asian_females</td>\n",
       "      <td>0.607093</td>\n",
       "      <td>0.348211</td>\n",
       "      <td>0.458883</td>\n",
       "      <td>AF</td>\n",
       "      <td>AF</td>\n",
       "      <td>F</td>\n",
       "      <td>F</td>\n",
       "      <td>A</td>\n",
       "      <td>A</td>\n",
       "      <td>[[-0.009217382]]</td>\n",
       "    </tr>\n",
       "    <tr>\n",
       "      <th>4</th>\n",
       "      <td>1</td>\n",
       "      <td>asian_females/n000009/0010_01.jpg</td>\n",
       "      <td>asian_females/n000009/0205_01.jpg</td>\n",
       "      <td>1</td>\n",
       "      <td>0</td>\n",
       "      <td>0</td>\n",
       "      <td>asian_females</td>\n",
       "      <td>asian_females</td>\n",
       "      <td>0.629153</td>\n",
       "      <td>0.384273</td>\n",
       "      <td>0.494913</td>\n",
       "      <td>AF</td>\n",
       "      <td>AF</td>\n",
       "      <td>F</td>\n",
       "      <td>F</td>\n",
       "      <td>A</td>\n",
       "      <td>A</td>\n",
       "      <td>[[0.13253382]]</td>\n",
       "    </tr>\n",
       "  </tbody>\n",
       "</table>\n",
       "</div>"
      ],
      "text/plain": [
       "  fold                                 p1                                 p2  \\\n",
       "0    1  asian_females/n000009/0010_01.jpg  asian_females/n000009/0043_01.jpg   \n",
       "1    1  asian_females/n000009/0010_01.jpg  asian_females/n000009/0120_01.jpg   \n",
       "2    1  asian_females/n000009/0010_01.jpg  asian_females/n000009/0122_02.jpg   \n",
       "3    1  asian_females/n000009/0010_01.jpg  asian_females/n000009/0188_01.jpg   \n",
       "4    1  asian_females/n000009/0010_01.jpg  asian_females/n000009/0205_01.jpg   \n",
       "\n",
       "  label  id1  id2           att1           att2     vgg16  resnet50   senet50  \\\n",
       "0     1    0    0  asian_females  asian_females  0.820039  0.703258  0.679089   \n",
       "1     1    0    0  asian_females  asian_females  0.719199  0.523613  0.594268   \n",
       "2     1    0    0  asian_females  asian_females  0.732029  0.527567  0.643680   \n",
       "3     1    0    0  asian_females  asian_females  0.607093  0.348211  0.458883   \n",
       "4     1    0    0  asian_females  asian_females  0.629153  0.384273  0.494913   \n",
       "\n",
       "   a1  a2 g1 g2 e1 e2        sphereface  \n",
       "0  AF  AF  F  F  A  A    [[0.39252594]]  \n",
       "1  AF  AF  F  F  A  A    [[0.35426214]]  \n",
       "2  AF  AF  F  F  A  A    [[0.30202782]]  \n",
       "3  AF  AF  F  F  A  A  [[-0.009217382]]  \n",
       "4  AF  AF  F  F  A  A    [[0.13253382]]  "
      ]
     },
     "execution_count": 7,
     "metadata": {},
     "output_type": "execute_result"
    }
   ],
   "source": [
    "data.head()"
   ]
  },
  {
   "cell_type": "code",
   "execution_count": 14,
   "metadata": {},
   "outputs": [],
   "source": [
    "if not pathlib.Path(f_datatable) or overwrite_pickle:\n",
    "    save_bfw_datatable(data, fpath=f_datatable)\n",
    "else:\n",
    "    print('Scores were in datatable. Will not overwrite by default')"
   ]
  }
 ],
 "metadata": {
  "kernelspec": {
   "display_name": "Python 3",
   "language": "python",
   "name": "python3"
  },
  "language_info": {
   "codemirror_mode": {
    "name": "ipython",
    "version": 3
   },
   "file_extension": ".py",
   "mimetype": "text/x-python",
   "name": "python",
   "nbconvert_exporter": "python",
   "pygments_lexer": "ipython3",
   "version": "3.7.4"
  },
  "pycharm": {
   "stem_cell": {
    "cell_type": "raw",
    "metadata": {
     "collapsed": false
    },
    "source": []
   }
  }
 },
 "nbformat": 4,
 "nbformat_minor": 4
}
