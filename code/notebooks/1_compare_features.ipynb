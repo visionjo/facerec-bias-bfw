{
 "cells": [
  {
   "cell_type": "markdown",
   "metadata": {
    "pycharm": {
     "name": "#%% md\n"
    }
   },
   "source": [
    "# Compare lists of feature pairs of the Balance Faces in the Wild (BFW) dataset.\n",
    "\n",
    "Load table in `data/bfw-datatable.pkl` to extract all features and store in the datatable. Overwrites the table to `data/bfw-datatable.pkl`."
   ]
  },
  {
   "cell_type": "markdown",
   "metadata": {},
   "source": [
    "## Add project code to PYTHONPATH, if not already there\n",
    "Check that _path_package_ is set to _code_ directory on respective system"
   ]
  },
  {
   "cell_type": "code",
   "metadata": {
    "collapsed": false,
    "jupyter": {
     "outputs_hidden": false
    },
    "pycharm": {
     "name": "#%%\n"
    },
    "ExecuteTime": {
     "end_time": "2025-01-14T18:36:21.669461Z",
     "start_time": "2025-01-14T18:36:21.666892Z"
    }
   },
   "source": [
    "%matplotlib inline\n",
    "import numpy as np\n",
    "import swifter\n",
    "import pathlib\n",
    "from sklearn.metrics.pairwise import cosine_similarity\n",
    "# Load out custom tool for loading and processing the data\n",
    "from facebias.iotools import load_bfw_datatable, save_bfw_datatable, load_features_from_image_list\n",
    "\n",
    "scorefun = np.dot # function to compare (or score) pairs of features with"
   ],
   "outputs": [],
   "execution_count": 16
  },
  {
   "cell_type": "code",
   "metadata": {
    "collapsed": false,
    "jupyter": {
     "outputs_hidden": false
    },
    "pycharm": {
     "name": "#%%\n"
    },
    "ExecuteTime": {
     "end_time": "2025-01-14T18:38:00.098022Z",
     "start_time": "2025-01-14T18:38:00.096261Z"
    }
   },
   "source": [
    "dir_data = '../../data/'\n",
    "dir_features = f'{dir_data}features/sphereface/'\n",
    "f_datatable = f'{dir_data}meta/bfw-v0.1.5-datatable.csv'\n",
    "f_datatable_out = f'{dir_data}meta/bfw-v0.1.5-datatable-scores.pkl'\n",
    "overwrite_pickle = False"
   ],
   "outputs": [],
   "execution_count": 21
  },
  {
   "metadata": {
    "ExecuteTime": {
     "end_time": "2025-01-14T18:30:35.378479Z",
     "start_time": "2025-01-14T18:30:35.376667Z"
    }
   },
   "cell_type": "code",
   "source": "import pandas as pd",
   "outputs": [],
   "execution_count": 6
  },
  {
   "metadata": {
    "ExecuteTime": {
     "end_time": "2025-01-14T18:30:36.007515Z",
     "start_time": "2025-01-14T18:30:36.005633Z"
    }
   },
   "cell_type": "code",
   "source": "",
   "outputs": [],
   "execution_count": null
  },
  {
   "cell_type": "markdown",
   "metadata": {},
   "source": [
    "## Load the data\n",
    "\n",
    "Read in the data as a pandas.DataFrame and show the first few rows."
   ]
  },
  {
   "metadata": {
    "ExecuteTime": {
     "end_time": "2025-01-14T18:30:39.078133Z",
     "start_time": "2025-01-14T18:30:38.214256Z"
    }
   },
   "cell_type": "code",
   "source": [
    "data = pd.read_csv(f'{dir_data}meta/bfw-v0.1.5-datatable.csv')\n",
    "data.head()"
   ],
   "outputs": [
    {
     "data": {
      "text/plain": [
       "   fold                                 p1                                 p2  \\\n",
       "0     1  asian_females/n000009/0010_01.jpg  asian_females/n000009/0043_01.jpg   \n",
       "1     1  asian_females/n000009/0010_01.jpg  asian_females/n000009/0120_01.jpg   \n",
       "2     1  asian_females/n000009/0010_01.jpg  asian_females/n000009/0122_02.jpg   \n",
       "3     1  asian_females/n000009/0010_01.jpg  asian_females/n000009/0188_01.jpg   \n",
       "4     1  asian_females/n000009/0010_01.jpg  asian_females/n000009/0205_01.jpg   \n",
       "\n",
       "   label  id1  id2           att1           att2     vgg16  resnet50  \\\n",
       "0      1    0    0  asian_females  asian_females  0.820039  0.703258   \n",
       "1      1    0    0  asian_females  asian_females  0.719199  0.523613   \n",
       "2      1    0    0  asian_females  asian_females  0.732029  0.527567   \n",
       "3      1    0    0  asian_females  asian_females  0.607093  0.348211   \n",
       "4      1    0    0  asian_females  asian_females  0.629153  0.384273   \n",
       "\n",
       "    senet50  a1  a2 g1 g2 e1 e2  \n",
       "0  0.679089  AF  AF  F  F  A  A  \n",
       "1  0.594268  AF  AF  F  F  A  A  \n",
       "2  0.643680  AF  AF  F  F  A  A  \n",
       "3  0.458883  AF  AF  F  F  A  A  \n",
       "4  0.494913  AF  AF  F  F  A  A  "
      ],
      "text/html": [
       "<div>\n",
       "<style scoped>\n",
       "    .dataframe tbody tr th:only-of-type {\n",
       "        vertical-align: middle;\n",
       "    }\n",
       "\n",
       "    .dataframe tbody tr th {\n",
       "        vertical-align: top;\n",
       "    }\n",
       "\n",
       "    .dataframe thead th {\n",
       "        text-align: right;\n",
       "    }\n",
       "</style>\n",
       "<table border=\"1\" class=\"dataframe\">\n",
       "  <thead>\n",
       "    <tr style=\"text-align: right;\">\n",
       "      <th></th>\n",
       "      <th>fold</th>\n",
       "      <th>p1</th>\n",
       "      <th>p2</th>\n",
       "      <th>label</th>\n",
       "      <th>id1</th>\n",
       "      <th>id2</th>\n",
       "      <th>att1</th>\n",
       "      <th>att2</th>\n",
       "      <th>vgg16</th>\n",
       "      <th>resnet50</th>\n",
       "      <th>senet50</th>\n",
       "      <th>a1</th>\n",
       "      <th>a2</th>\n",
       "      <th>g1</th>\n",
       "      <th>g2</th>\n",
       "      <th>e1</th>\n",
       "      <th>e2</th>\n",
       "    </tr>\n",
       "  </thead>\n",
       "  <tbody>\n",
       "    <tr>\n",
       "      <th>0</th>\n",
       "      <td>1</td>\n",
       "      <td>asian_females/n000009/0010_01.jpg</td>\n",
       "      <td>asian_females/n000009/0043_01.jpg</td>\n",
       "      <td>1</td>\n",
       "      <td>0</td>\n",
       "      <td>0</td>\n",
       "      <td>asian_females</td>\n",
       "      <td>asian_females</td>\n",
       "      <td>0.820039</td>\n",
       "      <td>0.703258</td>\n",
       "      <td>0.679089</td>\n",
       "      <td>AF</td>\n",
       "      <td>AF</td>\n",
       "      <td>F</td>\n",
       "      <td>F</td>\n",
       "      <td>A</td>\n",
       "      <td>A</td>\n",
       "    </tr>\n",
       "    <tr>\n",
       "      <th>1</th>\n",
       "      <td>1</td>\n",
       "      <td>asian_females/n000009/0010_01.jpg</td>\n",
       "      <td>asian_females/n000009/0120_01.jpg</td>\n",
       "      <td>1</td>\n",
       "      <td>0</td>\n",
       "      <td>0</td>\n",
       "      <td>asian_females</td>\n",
       "      <td>asian_females</td>\n",
       "      <td>0.719199</td>\n",
       "      <td>0.523613</td>\n",
       "      <td>0.594268</td>\n",
       "      <td>AF</td>\n",
       "      <td>AF</td>\n",
       "      <td>F</td>\n",
       "      <td>F</td>\n",
       "      <td>A</td>\n",
       "      <td>A</td>\n",
       "    </tr>\n",
       "    <tr>\n",
       "      <th>2</th>\n",
       "      <td>1</td>\n",
       "      <td>asian_females/n000009/0010_01.jpg</td>\n",
       "      <td>asian_females/n000009/0122_02.jpg</td>\n",
       "      <td>1</td>\n",
       "      <td>0</td>\n",
       "      <td>0</td>\n",
       "      <td>asian_females</td>\n",
       "      <td>asian_females</td>\n",
       "      <td>0.732029</td>\n",
       "      <td>0.527567</td>\n",
       "      <td>0.643680</td>\n",
       "      <td>AF</td>\n",
       "      <td>AF</td>\n",
       "      <td>F</td>\n",
       "      <td>F</td>\n",
       "      <td>A</td>\n",
       "      <td>A</td>\n",
       "    </tr>\n",
       "    <tr>\n",
       "      <th>3</th>\n",
       "      <td>1</td>\n",
       "      <td>asian_females/n000009/0010_01.jpg</td>\n",
       "      <td>asian_females/n000009/0188_01.jpg</td>\n",
       "      <td>1</td>\n",
       "      <td>0</td>\n",
       "      <td>0</td>\n",
       "      <td>asian_females</td>\n",
       "      <td>asian_females</td>\n",
       "      <td>0.607093</td>\n",
       "      <td>0.348211</td>\n",
       "      <td>0.458883</td>\n",
       "      <td>AF</td>\n",
       "      <td>AF</td>\n",
       "      <td>F</td>\n",
       "      <td>F</td>\n",
       "      <td>A</td>\n",
       "      <td>A</td>\n",
       "    </tr>\n",
       "    <tr>\n",
       "      <th>4</th>\n",
       "      <td>1</td>\n",
       "      <td>asian_females/n000009/0010_01.jpg</td>\n",
       "      <td>asian_females/n000009/0205_01.jpg</td>\n",
       "      <td>1</td>\n",
       "      <td>0</td>\n",
       "      <td>0</td>\n",
       "      <td>asian_females</td>\n",
       "      <td>asian_females</td>\n",
       "      <td>0.629153</td>\n",
       "      <td>0.384273</td>\n",
       "      <td>0.494913</td>\n",
       "      <td>AF</td>\n",
       "      <td>AF</td>\n",
       "      <td>F</td>\n",
       "      <td>F</td>\n",
       "      <td>A</td>\n",
       "      <td>A</td>\n",
       "    </tr>\n",
       "  </tbody>\n",
       "</table>\n",
       "</div>"
      ]
     },
     "execution_count": 7,
     "metadata": {},
     "output_type": "execute_result"
    }
   ],
   "execution_count": 7
  },
  {
   "cell_type": "code",
   "metadata": {
    "pycharm": {
     "is_executing": false,
     "name": "#%%\n"
    },
    "ExecuteTime": {
     "end_time": "2025-01-14T18:36:02.676172Z",
     "start_time": "2025-01-14T18:36:02.612762Z"
    }
   },
   "source": [
    "data = load_bfw_datatable(f_datatable.replace(\".csv\", \".pkl\"))\n",
    "data.head()"
   ],
   "outputs": [
    {
     "data": {
      "text/plain": [
       "   fold                                 p1                                 p2  \\\n",
       "0     1  asian_females/n000009/0010_01.jpg  asian_females/n000009/0043_01.jpg   \n",
       "1     1  asian_females/n000009/0010_01.jpg  asian_females/n000009/0120_01.jpg   \n",
       "2     1  asian_females/n000009/0010_01.jpg  asian_females/n000009/0122_02.jpg   \n",
       "3     1  asian_females/n000009/0010_01.jpg  asian_females/n000009/0188_01.jpg   \n",
       "4     1  asian_females/n000009/0010_01.jpg  asian_females/n000009/0205_01.jpg   \n",
       "\n",
       "   label  id1  id2           att1           att2     vgg16  resnet50  \\\n",
       "0      1    0    0  asian_females  asian_females  0.820039  0.703258   \n",
       "1      1    0    0  asian_females  asian_females  0.719199  0.523613   \n",
       "2      1    0    0  asian_females  asian_females  0.732029  0.527567   \n",
       "3      1    0    0  asian_females  asian_females  0.607093  0.348211   \n",
       "4      1    0    0  asian_females  asian_females  0.629153  0.384273   \n",
       "\n",
       "    senet50  a1  a2 g1 g2 e1 e2  score  ids1  ids2  \n",
       "0  0.679089  AF  AF  F  F  A  A    NaN     0     0  \n",
       "1  0.594268  AF  AF  F  F  A  A    NaN     0     0  \n",
       "2  0.643680  AF  AF  F  F  A  A    NaN     0     0  \n",
       "3  0.458883  AF  AF  F  F  A  A    NaN     0     0  \n",
       "4  0.494913  AF  AF  F  F  A  A    NaN     0     0  "
      ],
      "text/html": [
       "<div>\n",
       "<style scoped>\n",
       "    .dataframe tbody tr th:only-of-type {\n",
       "        vertical-align: middle;\n",
       "    }\n",
       "\n",
       "    .dataframe tbody tr th {\n",
       "        vertical-align: top;\n",
       "    }\n",
       "\n",
       "    .dataframe thead th {\n",
       "        text-align: right;\n",
       "    }\n",
       "</style>\n",
       "<table border=\"1\" class=\"dataframe\">\n",
       "  <thead>\n",
       "    <tr style=\"text-align: right;\">\n",
       "      <th></th>\n",
       "      <th>fold</th>\n",
       "      <th>p1</th>\n",
       "      <th>p2</th>\n",
       "      <th>label</th>\n",
       "      <th>id1</th>\n",
       "      <th>id2</th>\n",
       "      <th>att1</th>\n",
       "      <th>att2</th>\n",
       "      <th>vgg16</th>\n",
       "      <th>resnet50</th>\n",
       "      <th>senet50</th>\n",
       "      <th>a1</th>\n",
       "      <th>a2</th>\n",
       "      <th>g1</th>\n",
       "      <th>g2</th>\n",
       "      <th>e1</th>\n",
       "      <th>e2</th>\n",
       "      <th>score</th>\n",
       "      <th>ids1</th>\n",
       "      <th>ids2</th>\n",
       "    </tr>\n",
       "  </thead>\n",
       "  <tbody>\n",
       "    <tr>\n",
       "      <th>0</th>\n",
       "      <td>1</td>\n",
       "      <td>asian_females/n000009/0010_01.jpg</td>\n",
       "      <td>asian_females/n000009/0043_01.jpg</td>\n",
       "      <td>1</td>\n",
       "      <td>0</td>\n",
       "      <td>0</td>\n",
       "      <td>asian_females</td>\n",
       "      <td>asian_females</td>\n",
       "      <td>0.820039</td>\n",
       "      <td>0.703258</td>\n",
       "      <td>0.679089</td>\n",
       "      <td>AF</td>\n",
       "      <td>AF</td>\n",
       "      <td>F</td>\n",
       "      <td>F</td>\n",
       "      <td>A</td>\n",
       "      <td>A</td>\n",
       "      <td>NaN</td>\n",
       "      <td>0</td>\n",
       "      <td>0</td>\n",
       "    </tr>\n",
       "    <tr>\n",
       "      <th>1</th>\n",
       "      <td>1</td>\n",
       "      <td>asian_females/n000009/0010_01.jpg</td>\n",
       "      <td>asian_females/n000009/0120_01.jpg</td>\n",
       "      <td>1</td>\n",
       "      <td>0</td>\n",
       "      <td>0</td>\n",
       "      <td>asian_females</td>\n",
       "      <td>asian_females</td>\n",
       "      <td>0.719199</td>\n",
       "      <td>0.523613</td>\n",
       "      <td>0.594268</td>\n",
       "      <td>AF</td>\n",
       "      <td>AF</td>\n",
       "      <td>F</td>\n",
       "      <td>F</td>\n",
       "      <td>A</td>\n",
       "      <td>A</td>\n",
       "      <td>NaN</td>\n",
       "      <td>0</td>\n",
       "      <td>0</td>\n",
       "    </tr>\n",
       "    <tr>\n",
       "      <th>2</th>\n",
       "      <td>1</td>\n",
       "      <td>asian_females/n000009/0010_01.jpg</td>\n",
       "      <td>asian_females/n000009/0122_02.jpg</td>\n",
       "      <td>1</td>\n",
       "      <td>0</td>\n",
       "      <td>0</td>\n",
       "      <td>asian_females</td>\n",
       "      <td>asian_females</td>\n",
       "      <td>0.732029</td>\n",
       "      <td>0.527567</td>\n",
       "      <td>0.643680</td>\n",
       "      <td>AF</td>\n",
       "      <td>AF</td>\n",
       "      <td>F</td>\n",
       "      <td>F</td>\n",
       "      <td>A</td>\n",
       "      <td>A</td>\n",
       "      <td>NaN</td>\n",
       "      <td>0</td>\n",
       "      <td>0</td>\n",
       "    </tr>\n",
       "    <tr>\n",
       "      <th>3</th>\n",
       "      <td>1</td>\n",
       "      <td>asian_females/n000009/0010_01.jpg</td>\n",
       "      <td>asian_females/n000009/0188_01.jpg</td>\n",
       "      <td>1</td>\n",
       "      <td>0</td>\n",
       "      <td>0</td>\n",
       "      <td>asian_females</td>\n",
       "      <td>asian_females</td>\n",
       "      <td>0.607093</td>\n",
       "      <td>0.348211</td>\n",
       "      <td>0.458883</td>\n",
       "      <td>AF</td>\n",
       "      <td>AF</td>\n",
       "      <td>F</td>\n",
       "      <td>F</td>\n",
       "      <td>A</td>\n",
       "      <td>A</td>\n",
       "      <td>NaN</td>\n",
       "      <td>0</td>\n",
       "      <td>0</td>\n",
       "    </tr>\n",
       "    <tr>\n",
       "      <th>4</th>\n",
       "      <td>1</td>\n",
       "      <td>asian_females/n000009/0010_01.jpg</td>\n",
       "      <td>asian_females/n000009/0205_01.jpg</td>\n",
       "      <td>1</td>\n",
       "      <td>0</td>\n",
       "      <td>0</td>\n",
       "      <td>asian_females</td>\n",
       "      <td>asian_females</td>\n",
       "      <td>0.629153</td>\n",
       "      <td>0.384273</td>\n",
       "      <td>0.494913</td>\n",
       "      <td>AF</td>\n",
       "      <td>AF</td>\n",
       "      <td>F</td>\n",
       "      <td>F</td>\n",
       "      <td>A</td>\n",
       "      <td>A</td>\n",
       "      <td>NaN</td>\n",
       "      <td>0</td>\n",
       "      <td>0</td>\n",
       "    </tr>\n",
       "  </tbody>\n",
       "</table>\n",
       "</div>"
      ]
     },
     "execution_count": 11,
     "metadata": {},
     "output_type": "execute_result"
    }
   ],
   "execution_count": 11
  },
  {
   "cell_type": "code",
   "metadata": {
    "ExecuteTime": {
     "end_time": "2025-01-14T18:36:04.596838Z",
     "start_time": "2025-01-14T18:36:04.593572Z"
    }
   },
   "source": [
    "len(data)"
   ],
   "outputs": [
    {
     "data": {
      "text/plain": [
       "923898"
      ]
     },
     "execution_count": 12,
     "metadata": {},
     "output_type": "execute_result"
    }
   ],
   "execution_count": 12
  },
  {
   "cell_type": "markdown",
   "metadata": {},
   "source": [
    "## Load features and generate scores\n",
    "First check if scores were calculated for each pairs; else, load and calculate"
   ]
  },
  {
   "cell_type": "code",
   "metadata": {
    "ExecuteTime": {
     "end_time": "2025-01-14T18:36:08.362561Z",
     "start_time": "2025-01-14T18:36:06.222663Z"
    }
   },
   "source": [
    "# create ali_images list of all faces (i.e., unique set)\n",
    "li_images = list(np.unique(data.p1.to_list() + data.p2.to_list()))\n",
    "\n",
    "# read features as a dictionary, with keys set as the filepath of the image with values set as the face encodings\n",
    "features = load_features_from_image_list(li_images, dir_features, ext_feat='npy')"
   ],
   "outputs": [],
   "execution_count": 13
  },
  {
   "cell_type": "code",
   "metadata": {
    "ExecuteTime": {
     "end_time": "2025-01-14T18:36:14.045962Z",
     "start_time": "2025-01-14T18:36:09.131306Z"
    }
   },
   "source": [
    "# score all feature pairs, because L2 norm applied on features dot is same as cosine sim\n",
    "data['sphereface'] = data.swifter.apply(lambda x: scorefun(features[x.p1], features[x.p2].T), axis=1)"
   ],
   "outputs": [
    {
     "data": {
      "text/plain": [
       "Pandas Apply:   0%|          | 0/923898 [00:00<?, ?it/s]"
      ],
      "application/vnd.jupyter.widget-view+json": {
       "version_major": 2,
       "version_minor": 0,
       "model_id": "02719eb4ce3f41ada6ec878895f0a05a"
      }
     },
     "metadata": {},
     "output_type": "display_data"
    }
   ],
   "execution_count": 14
  },
  {
   "cell_type": "code",
   "metadata": {
    "ExecuteTime": {
     "end_time": "2025-01-14T18:36:14.902314Z",
     "start_time": "2025-01-14T18:36:14.892Z"
    }
   },
   "source": [
    "data.head()"
   ],
   "outputs": [
    {
     "data": {
      "text/plain": [
       "   fold                                 p1                                 p2  \\\n",
       "0     1  asian_females/n000009/0010_01.jpg  asian_females/n000009/0043_01.jpg   \n",
       "1     1  asian_females/n000009/0010_01.jpg  asian_females/n000009/0120_01.jpg   \n",
       "2     1  asian_females/n000009/0010_01.jpg  asian_females/n000009/0122_02.jpg   \n",
       "3     1  asian_females/n000009/0010_01.jpg  asian_females/n000009/0188_01.jpg   \n",
       "4     1  asian_females/n000009/0010_01.jpg  asian_females/n000009/0205_01.jpg   \n",
       "\n",
       "   label  id1  id2           att1           att2     vgg16  resnet50  ...  a1  \\\n",
       "0      1    0    0  asian_females  asian_females  0.820039  0.703258  ...  AF   \n",
       "1      1    0    0  asian_females  asian_females  0.719199  0.523613  ...  AF   \n",
       "2      1    0    0  asian_females  asian_females  0.732029  0.527567  ...  AF   \n",
       "3      1    0    0  asian_females  asian_females  0.607093  0.348211  ...  AF   \n",
       "4      1    0    0  asian_females  asian_females  0.629153  0.384273  ...  AF   \n",
       "\n",
       "   a2 g1 g2 e1 e2 score  ids1  ids2  sphereface  \n",
       "0  AF  F  F  A  A   NaN     0     0    0.392526  \n",
       "1  AF  F  F  A  A   NaN     0     0    0.354262  \n",
       "2  AF  F  F  A  A   NaN     0     0    0.302028  \n",
       "3  AF  F  F  A  A   NaN     0     0   -0.009217  \n",
       "4  AF  F  F  A  A   NaN     0     0    0.132534  \n",
       "\n",
       "[5 rows x 21 columns]"
      ],
      "text/html": [
       "<div>\n",
       "<style scoped>\n",
       "    .dataframe tbody tr th:only-of-type {\n",
       "        vertical-align: middle;\n",
       "    }\n",
       "\n",
       "    .dataframe tbody tr th {\n",
       "        vertical-align: top;\n",
       "    }\n",
       "\n",
       "    .dataframe thead th {\n",
       "        text-align: right;\n",
       "    }\n",
       "</style>\n",
       "<table border=\"1\" class=\"dataframe\">\n",
       "  <thead>\n",
       "    <tr style=\"text-align: right;\">\n",
       "      <th></th>\n",
       "      <th>fold</th>\n",
       "      <th>p1</th>\n",
       "      <th>p2</th>\n",
       "      <th>label</th>\n",
       "      <th>id1</th>\n",
       "      <th>id2</th>\n",
       "      <th>att1</th>\n",
       "      <th>att2</th>\n",
       "      <th>vgg16</th>\n",
       "      <th>resnet50</th>\n",
       "      <th>...</th>\n",
       "      <th>a1</th>\n",
       "      <th>a2</th>\n",
       "      <th>g1</th>\n",
       "      <th>g2</th>\n",
       "      <th>e1</th>\n",
       "      <th>e2</th>\n",
       "      <th>score</th>\n",
       "      <th>ids1</th>\n",
       "      <th>ids2</th>\n",
       "      <th>sphereface</th>\n",
       "    </tr>\n",
       "  </thead>\n",
       "  <tbody>\n",
       "    <tr>\n",
       "      <th>0</th>\n",
       "      <td>1</td>\n",
       "      <td>asian_females/n000009/0010_01.jpg</td>\n",
       "      <td>asian_females/n000009/0043_01.jpg</td>\n",
       "      <td>1</td>\n",
       "      <td>0</td>\n",
       "      <td>0</td>\n",
       "      <td>asian_females</td>\n",
       "      <td>asian_females</td>\n",
       "      <td>0.820039</td>\n",
       "      <td>0.703258</td>\n",
       "      <td>...</td>\n",
       "      <td>AF</td>\n",
       "      <td>AF</td>\n",
       "      <td>F</td>\n",
       "      <td>F</td>\n",
       "      <td>A</td>\n",
       "      <td>A</td>\n",
       "      <td>NaN</td>\n",
       "      <td>0</td>\n",
       "      <td>0</td>\n",
       "      <td>0.392526</td>\n",
       "    </tr>\n",
       "    <tr>\n",
       "      <th>1</th>\n",
       "      <td>1</td>\n",
       "      <td>asian_females/n000009/0010_01.jpg</td>\n",
       "      <td>asian_females/n000009/0120_01.jpg</td>\n",
       "      <td>1</td>\n",
       "      <td>0</td>\n",
       "      <td>0</td>\n",
       "      <td>asian_females</td>\n",
       "      <td>asian_females</td>\n",
       "      <td>0.719199</td>\n",
       "      <td>0.523613</td>\n",
       "      <td>...</td>\n",
       "      <td>AF</td>\n",
       "      <td>AF</td>\n",
       "      <td>F</td>\n",
       "      <td>F</td>\n",
       "      <td>A</td>\n",
       "      <td>A</td>\n",
       "      <td>NaN</td>\n",
       "      <td>0</td>\n",
       "      <td>0</td>\n",
       "      <td>0.354262</td>\n",
       "    </tr>\n",
       "    <tr>\n",
       "      <th>2</th>\n",
       "      <td>1</td>\n",
       "      <td>asian_females/n000009/0010_01.jpg</td>\n",
       "      <td>asian_females/n000009/0122_02.jpg</td>\n",
       "      <td>1</td>\n",
       "      <td>0</td>\n",
       "      <td>0</td>\n",
       "      <td>asian_females</td>\n",
       "      <td>asian_females</td>\n",
       "      <td>0.732029</td>\n",
       "      <td>0.527567</td>\n",
       "      <td>...</td>\n",
       "      <td>AF</td>\n",
       "      <td>AF</td>\n",
       "      <td>F</td>\n",
       "      <td>F</td>\n",
       "      <td>A</td>\n",
       "      <td>A</td>\n",
       "      <td>NaN</td>\n",
       "      <td>0</td>\n",
       "      <td>0</td>\n",
       "      <td>0.302028</td>\n",
       "    </tr>\n",
       "    <tr>\n",
       "      <th>3</th>\n",
       "      <td>1</td>\n",
       "      <td>asian_females/n000009/0010_01.jpg</td>\n",
       "      <td>asian_females/n000009/0188_01.jpg</td>\n",
       "      <td>1</td>\n",
       "      <td>0</td>\n",
       "      <td>0</td>\n",
       "      <td>asian_females</td>\n",
       "      <td>asian_females</td>\n",
       "      <td>0.607093</td>\n",
       "      <td>0.348211</td>\n",
       "      <td>...</td>\n",
       "      <td>AF</td>\n",
       "      <td>AF</td>\n",
       "      <td>F</td>\n",
       "      <td>F</td>\n",
       "      <td>A</td>\n",
       "      <td>A</td>\n",
       "      <td>NaN</td>\n",
       "      <td>0</td>\n",
       "      <td>0</td>\n",
       "      <td>-0.009217</td>\n",
       "    </tr>\n",
       "    <tr>\n",
       "      <th>4</th>\n",
       "      <td>1</td>\n",
       "      <td>asian_females/n000009/0010_01.jpg</td>\n",
       "      <td>asian_females/n000009/0205_01.jpg</td>\n",
       "      <td>1</td>\n",
       "      <td>0</td>\n",
       "      <td>0</td>\n",
       "      <td>asian_females</td>\n",
       "      <td>asian_females</td>\n",
       "      <td>0.629153</td>\n",
       "      <td>0.384273</td>\n",
       "      <td>...</td>\n",
       "      <td>AF</td>\n",
       "      <td>AF</td>\n",
       "      <td>F</td>\n",
       "      <td>F</td>\n",
       "      <td>A</td>\n",
       "      <td>A</td>\n",
       "      <td>NaN</td>\n",
       "      <td>0</td>\n",
       "      <td>0</td>\n",
       "      <td>0.132534</td>\n",
       "    </tr>\n",
       "  </tbody>\n",
       "</table>\n",
       "<p>5 rows × 21 columns</p>\n",
       "</div>"
      ]
     },
     "execution_count": 15,
     "metadata": {},
     "output_type": "execute_result"
    }
   ],
   "execution_count": 15
  },
  {
   "cell_type": "code",
   "metadata": {
    "ExecuteTime": {
     "end_time": "2025-01-14T18:38:03.526373Z",
     "start_time": "2025-01-14T18:38:03.434492Z"
    }
   },
   "source": [
    "if not pathlib.Path(f_datatable_out).exists() or overwrite_pickle:\n",
    "    save_bfw_datatable(data, fpath=f_datatable_out)\n",
    "else:\n",
    "    print('Scores were in datatable. Will not overwrite by default')"
   ],
   "outputs": [],
   "execution_count": 22
  },
  {
   "metadata": {},
   "cell_type": "code",
   "outputs": [],
   "execution_count": null,
   "source": ""
  }
 ],
 "metadata": {
  "kernelspec": {
   "display_name": "Python 3",
   "language": "python",
   "name": "python3"
  },
  "language_info": {
   "codemirror_mode": {
    "name": "ipython",
    "version": 3
   },
   "file_extension": ".py",
   "mimetype": "text/x-python",
   "name": "python",
   "nbconvert_exporter": "python",
   "pygments_lexer": "ipython3",
   "version": "3.7.4"
  }
 },
 "nbformat": 4,
 "nbformat_minor": 4
}
