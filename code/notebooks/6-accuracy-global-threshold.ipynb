{
 "cells": [
  {
   "cell_type": "markdown",
   "metadata": {},
   "source": [
    "# Calculate accuracy for a global threshold using the Balance Faces in the Wild (BFW) dataset.\n",
    "\n",
    "Uses the data in `data/bfw-datatable.pkl` to determine the NN. Saves the summary to `results/bfw-stats.csv`."
   ]
  },
  {
   "cell_type": "code",
   "execution_count": 2,
   "metadata": {},
   "outputs": [],
   "source": [
    "%matplotlib inline\n",
    "%reload_ext autoreload\n",
    "%autoreload 2"
   ]
  },
  {
   "cell_type": "code",
   "execution_count": 4,
   "metadata": {},
   "outputs": [],
   "source": [
    "import numpy as np\n",
    "import pandas as pd\n",
    "import sys\n",
    "\n",
    "sys.path.append('../')\n",
    "from facebias.utils import find_best_threshold\n",
    "\n",
    "from facebias.iotools import load_bfw_datatable\n",
    "import matplotlib.pyplot as plt\n"
   ]
  },
  {
   "cell_type": "code",
   "execution_count": 6,
   "metadata": {},
   "outputs": [],
   "source": [
    "bfw_version = \"0.1.5\"\n",
    "dir_data = \"../../data/bfw/\"\n",
    "\n",
    "dir_features = f\"{dir_data}features/sphereface/\"\n",
    "dir_meta = f\"{dir_data}meta/\"\n",
    "f_datatable = f\"{dir_meta}bfw-v{bfw_version}-datatable.pkl\"\n",
    "f_threshold = f\"{dir_meta}thresholds.pkl\"\n",
    "\n",
    "thresholds_arr = np.linspace(0.18, 0.4, 500)\n",
    "global_threshold = []\n",
    "data = load_bfw_datatable(f_datatable, default_score_col=\"sphereface\")\n",
    "\n",
    "data[\"yp0\"] = 0\n",
    "\n",
    "folds = data.fold.unique()"
   ]
  },
  {
   "cell_type": "code",
   "execution_count": 7,
   "metadata": {},
   "outputs": [
    {
     "name": "stdout",
     "output_type": "stream",
     "text": [
      "Fold 1: with t_g=0.2589178356713427, acc=0.962591485274422\n",
      "Fold 2: with t_g=0.2545090180360722, acc=0.9612347208770041\n",
      "Fold 3: with t_g=0.2606813627254509, acc=0.9621221858861\n",
      "Fold 4: with t_g=0.2589178356713427, acc=0.9612281233426775\n",
      "Fold 5: with t_g=0.2606813627254509, acc=0.9625876439756565\n"
     ]
    }
   ],
   "source": [
    "for fold in folds:\n",
    "    ids = data.fold != fold\n",
    "    threshold, score = find_best_threshold(\n",
    "        thresholds_arr, data.loc[ids, [\"label\", \"score\"]]\n",
    "    )\n",
    "    print(f\"Fold {fold}: with t_g={threshold}, acc={score}\")\n",
    "    data.loc[ids, \"yp0\"] = (data[\"score\"] >= threshold).astype(int)\n",
    "    global_threshold.append(threshold)\n"
   ]
  },
  {
   "cell_type": "code",
   "execution_count": 8,
   "metadata": {},
   "outputs": [],
   "source": [
    "data['iscorrect'] = (data[\"yp0\"] == data['label']).astype(int)"
   ]
  },
  {
   "cell_type": "code",
   "execution_count": 10,
   "metadata": {},
   "outputs": [
    {
     "data": {
      "text/html": [
       "<div>\n",
       "<style scoped>\n",
       "    .dataframe tbody tr th:only-of-type {\n",
       "        vertical-align: middle;\n",
       "    }\n",
       "\n",
       "    .dataframe tbody tr th {\n",
       "        vertical-align: top;\n",
       "    }\n",
       "\n",
       "    .dataframe thead th {\n",
       "        text-align: right;\n",
       "    }\n",
       "</style>\n",
       "<table border=\"1\" class=\"dataframe\">\n",
       "  <thead>\n",
       "    <tr style=\"text-align: right;\">\n",
       "      <th></th>\n",
       "      <th>iscorrect</th>\n",
       "    </tr>\n",
       "    <tr>\n",
       "      <th>att1</th>\n",
       "      <th></th>\n",
       "    </tr>\n",
       "  </thead>\n",
       "  <tbody>\n",
       "    <tr>\n",
       "      <th>asian_females</th>\n",
       "      <td>0.941492</td>\n",
       "    </tr>\n",
       "    <tr>\n",
       "      <th>asian_males</th>\n",
       "      <td>0.951706</td>\n",
       "    </tr>\n",
       "    <tr>\n",
       "      <th>black_females</th>\n",
       "      <td>0.967425</td>\n",
       "    </tr>\n",
       "    <tr>\n",
       "      <th>black_males</th>\n",
       "      <td>0.960341</td>\n",
       "    </tr>\n",
       "    <tr>\n",
       "      <th>indian_females</th>\n",
       "      <td>0.958432</td>\n",
       "    </tr>\n",
       "    <tr>\n",
       "      <th>indian_males</th>\n",
       "      <td>0.962255</td>\n",
       "    </tr>\n",
       "    <tr>\n",
       "      <th>white_females</th>\n",
       "      <td>0.972814</td>\n",
       "    </tr>\n",
       "    <tr>\n",
       "      <th>white_males</th>\n",
       "      <td>0.981124</td>\n",
       "    </tr>\n",
       "  </tbody>\n",
       "</table>\n",
       "</div>"
      ],
      "text/plain": [
       "                iscorrect\n",
       "att1                     \n",
       "asian_females    0.941492\n",
       "asian_males      0.951706\n",
       "black_females    0.967425\n",
       "black_males      0.960341\n",
       "indian_females   0.958432\n",
       "indian_males     0.962255\n",
       "white_females    0.972814\n",
       "white_males      0.981124"
      ]
     },
     "execution_count": 10,
     "metadata": {},
     "output_type": "execute_result"
    }
   ],
   "source": [
    "pd.DataFrame(data.groupby('att1').sum()['iscorrect']/data.groupby('att1').count()['iscorrect'])"
   ]
  },
  {
   "cell_type": "code",
   "execution_count": 7,
   "metadata": {},
   "outputs": [],
   "source": [
    "accuracy = (data.groupby('att1').sum()['iscorrect']/data.groupby('att1').count()['iscorrect']).mean()\n",
    "std = (data.groupby('att1').sum()['iscorrect']/data.groupby('att1').count()['iscorrect']).std()"
   ]
  },
  {
   "cell_type": "code",
   "execution_count": 8,
   "metadata": {},
   "outputs": [
    {
     "name": "stdout",
     "output_type": "stream",
     "text": [
      "Accuracy:0.9619485648779713\n",
      "STD:0.01227155889146341\n"
     ]
    }
   ],
   "source": [
    "print(f\"Accuracy:{accuracy}\\nSTD:{std}\")"
   ]
  },
  {
   "cell_type": "code",
   "execution_count": null,
   "metadata": {},
   "outputs": [],
   "source": []
  }
 ],
 "metadata": {
  "kernelspec": {
   "display_name": "Python 3",
   "language": "python",
   "name": "python3"
  },
  "language_info": {
   "codemirror_mode": {
    "name": "ipython",
    "version": 3
   },
   "file_extension": ".py",
   "mimetype": "text/x-python",
   "name": "python",
   "nbconvert_exporter": "python",
   "pygments_lexer": "ipython3",
   "version": "3.7.3"
  }
 },
 "nbformat": 4,
 "nbformat_minor": 4
}
